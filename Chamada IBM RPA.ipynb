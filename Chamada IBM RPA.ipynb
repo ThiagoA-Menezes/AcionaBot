{
 "cells": [
  {
   "cell_type": "code",
   "execution_count": 2,
   "metadata": {},
   "outputs": [
    {
     "name": "stdout",
     "output_type": "stream",
     "text": [
      "           error           error_description\n",
      "0  invalid_grant  Wrong username or password\n"
     ]
    }
   ],
   "source": [
    "import requests\n",
    "import pandas as pd\n",
    "import json\n",
    "\n",
    "# Codigo criado por Aldo Guilherme Justiniano para execução dos bots via chamada API, Thiago fez uma alteração que será sinalizada abaixo.\n",
    "\n",
    "#Obter token \n",
    "#Informar servidor correto na url (br1 - br2 - ap1 - uk1 - us1 - eu1)\n",
    "\n",
    "#url = 'https://{server}api.rpa.ibm.com/v1.0/token'\n",
    "\n",
    "# Faz a autenticação no Tenant de RPA e obtém o token\n",
    "\n",
    "url = 'https://br2api.rpa.ibm.com/v1.0/token'\n",
    "\n",
    "get_token_headers = {\n",
    "    'Accept': '*/*',   \n",
    "    'Connection': 'keep-alive',\n",
    "    'Content-Length': '8360,',\n",
    "    'Accept-Encoding': 'gzip, deflate, br',\n",
    "    'Content-Type': 'application/x-www-form-urlencoded',\n",
    "    #User-Agent /// Fake ///\n",
    "    'User-Agent': 'Iphone 6',\n",
    "    #Informar o tenant id\n",
    "    'tenantId': '88f0fb45-7c74-466b-89e3-6829ec87c113'\n",
    "}\n",
    "get_token_body = {    \n",
    "    'grant_type': 'password',\n",
    "    'username': '<Insert Email>',\n",
    "    'password': '<Insert Password>',\n",
    "    'culture': 'en-US'\n",
    "}\n",
    "\n",
    "response = requests.post(url, headers=get_token_headers, data=get_token_body)\n",
    "\n",
    "data_response = pd.json_normalize(response.json())\n",
    "\n",
    "print(data_response)\n",
    "#print(response.status_code)\n",
    "\n",
    "bot_run_headers = {\n",
    "    'Content-Type':'application/json',\n",
    "    'Accept':'application/json',\n",
    "    'User-Agent': 'Iphone 6',\n",
    "    'Accept-Encoding': 'gzip, deflate, br',\n",
    "    'Connection': 'keep-alive',\n",
    "    \"Authorization\": f\"Bearer {token}\" \n",
    "}\n",
    "\n",
    "#Adicionando Input Parameters para chamada de bots com input\n",
    "input_parameters = {\n",
    "  \"termoPesquisa\": \"tela Azul do Windows\",\n",
    "}\n",
    "\n",
    "bot_url = 'https://br2api.rpa.ibm.com/v2.0/workspace/88f0fb45-7c74-466b-89e3-6829ec87c113/projects/webscrapping/bots/webscraping'\n",
    "\n",
    "#Adicionando o input como json na chamada post do robo.\n",
    "bot_request = requests.post(bot_url, headers=bot_run_headers, json=input_parameters)\n",
    "\n",
    "bot_request_response = bot_request.json()\n",
    "\n",
    "bot_request_response"
   ]
  },
  {
   "cell_type": "code",
   "execution_count": 33,
   "metadata": {},
   "outputs": [
    {
     "data": {
      "text/plain": [
       "{'jobId': '16f843c6-8344-4a24-89ec-58fdfc1ab90f',\n",
       " 'project': 'webScrapping',\n",
       " 'botName': 'webScraping',\n",
       " 'status': 32,\n",
       " 'statusName': 'waiting'}"
      ]
     },
     "execution_count": 33,
     "metadata": {},
     "output_type": "execute_result"
    }
   ],
   "source": [
    "bot_request_response"
   ]
  },
  {
   "cell_type": "code",
   "execution_count": null,
   "metadata": {},
   "outputs": [],
   "source": []
  }
 ],
 "metadata": {
  "kernelspec": {
   "display_name": "Python 3",
   "language": "python",
   "name": "python3"
  },
  "language_info": {
   "codemirror_mode": {
    "name": "ipython",
    "version": 3
   },
   "file_extension": ".py",
   "mimetype": "text/x-python",
   "name": "python",
   "nbconvert_exporter": "python",
   "pygments_lexer": "ipython3",
   "version": "3.12.4"
  }
 },
 "nbformat": 4,
 "nbformat_minor": 2
}
